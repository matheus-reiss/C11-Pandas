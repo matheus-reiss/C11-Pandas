{
 "cells": [
  {
   "cell_type": "markdown",
   "id": "83a3e363",
   "metadata": {},
   "source": [
    "Exercício 1"
   ]
  },
  {
   "cell_type": "code",
   "execution_count": 13,
   "id": "709125f8",
   "metadata": {},
   "outputs": [
    {
     "name": "stdout",
     "output_type": "stream",
     "text": [
      "Série Ano 1:\n",
      "Java      16.25\n",
      "C         16.04\n",
      "Python     9.85\n",
      "\n",
      "Série Ano 2:\n",
      "C         16.21\n",
      "Python    12.12\n",
      "Java      11.68\n"
     ]
    }
   ],
   "source": [
    "import pandas as pd \n",
    "\n",
    "# Criando series\n",
    "seriesAno1 = pd.Series({'Java': 16.25, 'C': 16.04, 'Python': 9.85})\n",
    "seriesAno2 = pd.Series({'C': 16.21, 'Python': 12.12, 'Java': 11.68})\n",
    "\n",
    "# Exibindo as séries\n",
    "print(\"Série Ano 1:\")\n",
    "print(seriesAno1.to_string(dtype=False))\n",
    "\n",
    "print(\"\\nSérie Ano 2:\")\n",
    "print(seriesAno2.to_string(dtype=False))"
   ]
  },
  {
   "cell_type": "markdown",
   "id": "9870a4ff",
   "metadata": {},
   "source": [
    "Exercício 2"
   ]
  },
  {
   "cell_type": "code",
   "execution_count": 3,
   "id": "a4ea1c1c",
   "metadata": {},
   "outputs": [
    {
     "name": "stdout",
     "output_type": "stream",
     "text": [
      "Porcentagem total no Ano 1: 42.14%\n",
      "Porcentagem total no Ano 2: 40.01%\n"
     ]
    }
   ],
   "source": [
    "totalAno1 =  seriesAno1.sum()\n",
    "totalAno2 = seriesAno2.sum()\n",
    "\n",
    "print(f'Porcentagem total no Ano 1: {totalAno1:.2f}%')\n",
    "print(f'Porcentagem total no Ano 2: {totalAno2:.2f}%')"
   ]
  },
  {
   "cell_type": "markdown",
   "id": "0763148a",
   "metadata": {},
   "source": [
    "Exercício 3"
   ]
  },
  {
   "cell_type": "code",
   "execution_count": null,
   "id": "1d3db0cf",
   "metadata": {},
   "outputs": [
    {
     "name": "stdout",
     "output_type": "stream",
     "text": [
      "Variação percentual de cada linguagem:\n",
      "C         0.17\n",
      "Java     -4.57\n",
      "Python    2.27\n"
     ]
    }
   ],
   "source": [
    "# Crescimento/declínio de cada linguagem\n",
    "comparacao = seriesAno2 - seriesAno1\n",
    "\n",
    "print(f\"Variação percentual de cada linguagem:\")\n",
    "# Exibe sem dtype no fim dos dados\n",
    "print (comparacao.to_string(dtype=False))"
   ]
  },
  {
   "cell_type": "markdown",
   "id": "aa265078",
   "metadata": {},
   "source": [
    "Exercício 4\n"
   ]
  },
  {
   "cell_type": "code",
   "execution_count": 6,
   "id": "2a280c95",
   "metadata": {},
   "outputs": [
    {
     "name": "stdout",
     "output_type": "stream",
     "text": [
      "Linguagens que cresceram no mercado:\n",
      "C         0.17\n",
      "Python    2.27\n"
     ]
    }
   ],
   "source": [
    "# Filtrando linguagens com crescimento\n",
    "crescimento = comparacao[comparacao > 0]\n",
    "\n",
    "print(\"Linguagens que cresceram no mercado:\")\n",
    "print(crescimento.to_string(dtype=False))"
   ]
  },
  {
   "cell_type": "markdown",
   "id": "be5e7d53",
   "metadata": {},
   "source": [
    "Exercício 5"
   ]
  },
  {
   "cell_type": "code",
   "execution_count": 7,
   "id": "fbdc24f3",
   "metadata": {},
   "outputs": [
    {
     "name": "stdout",
     "output_type": "stream",
     "text": [
      "Linguagem mais popular após 2 anos:\n",
      "Python    16.66\n"
     ]
    }
   ],
   "source": [
    "# Projeção para 2 anos\n",
    "projecao = seriesAno2 + (2 * comparacao)\n",
    "\n",
    "# Descobrir o mais popular em 2 anos\n",
    "popular = projecao.nlargest(1)\n",
    "\n",
    "print(\"Linguagem mais popular após 2 anos:\")\n",
    "print (popular.to_string(dtype=False))"
   ]
  },
  {
   "cell_type": "markdown",
   "id": "07a2c8b6",
   "metadata": {},
   "source": [
    "Exercício 6"
   ]
  },
  {
   "cell_type": "code",
   "execution_count": 9,
   "id": "35f1482e",
   "metadata": {},
   "outputs": [
    {
     "name": "stdout",
     "output_type": "stream",
     "text": [
      "Média dos elementos da coluna X menores que 30: 17.5\n"
     ]
    }
   ],
   "source": [
    "# Criando o DataFrame\n",
    "df = pd.DataFrame({\n",
    "    \"W\": [10, 29, 30, 43, 37],\n",
    "    \"X\": [37, 26, 9, 41, 48],\n",
    "    \"Y\": [16, 30, 10, 37, 12],\n",
    "    \"Z\": [1, 49, 1, 17, 25]\n",
    "}, index = list(\"ABCDE\"))\n",
    "\n",
    "# Filtra valores de X menores que 30\n",
    "valores_menor = df[\"X\"][df[\"X\"] < 30]\n",
    "\n",
    "# Calculando média\n",
    "media = valores_menor.mean()\n",
    "\n",
    "print(\"Média dos elementos da coluna X menores que 30:\",media)"
   ]
  },
  {
   "cell_type": "markdown",
   "id": "b1f43a3a",
   "metadata": {},
   "source": [
    "Exercício 7"
   ]
  },
  {
   "cell_type": "code",
   "execution_count": null,
   "id": "5e5b7552",
   "metadata": {},
   "outputs": [
    {
     "name": "stdout",
     "output_type": "stream",
     "text": [
      "Média dos elementos da linha D: 34.50\n",
      "Soma dos elementos da linha E: 122\n"
     ]
    }
   ],
   "source": [
    "# Média dos elementos da linha D\n",
    "media_D = df.loc[\"D\"].mean()\n",
    "\n",
    "# Soma dos elementos linha E\n",
    "soma_E = df.iloc[4].sum()\n",
    "\n",
    "# Formata a média com 2 casas decimais\n",
    "print(f\"Média dos elementos da linha D: {float(media_D):.2f}\")\n",
    "print(f\"Soma dos elementos da linha E: {soma_E}\")"
   ]
  },
  {
   "cell_type": "markdown",
   "id": "1b0566bf",
   "metadata": {},
   "source": [
    "Exercício 8"
   ]
  },
  {
   "cell_type": "code",
   "execution_count": 12,
   "id": "388b1025",
   "metadata": {},
   "outputs": [
    {
     "name": "stdout",
     "output_type": "stream",
     "text": [
      "Novo DataFrame:\n",
      "    X   Y\n",
      "A  37  16\n",
      "C   9  10\n",
      "E  48  12 \n",
      "\n",
      "Soma dos elementos por linha:\n",
      "A    53\n",
      "C    19\n",
      "E    60\n",
      "\n",
      "Soma dos elementos por coluna:\n",
      "X    94\n",
      "Y    38\n"
     ]
    }
   ],
   "source": [
    "# Slicing das linhas A,C E e colunas X e Y\n",
    "novo_df = df.loc[[\"A\", \"C\", \"E\"], [\"X\", \"Y\"]]\n",
    "\n",
    "print(\"Novo DataFrame:\")\n",
    "print(novo_df,\"\\n\")\n",
    "\n",
    "# Somando por linha\n",
    "soma_linha = novo_df.sum(axis=1)\n",
    "\n",
    "# Somando por coluna\n",
    "soma_coluna = novo_df.sum(axis=0)\n",
    "\n",
    "print(\"Soma dos elementos por linha:\")\n",
    "print(soma_linha.to_string(dtype=False))\n",
    "\n",
    "print(\"\\nSoma dos elementos por coluna:\")\n",
    "print(soma_coluna.to_string(dtype=False))"
   ]
  }
 ],
 "metadata": {
  "kernelspec": {
   "display_name": "Python 3",
   "language": "python",
   "name": "python3"
  },
  "language_info": {
   "codemirror_mode": {
    "name": "ipython",
    "version": 3
   },
   "file_extension": ".py",
   "mimetype": "text/x-python",
   "name": "python",
   "nbconvert_exporter": "python",
   "pygments_lexer": "ipython3",
   "version": "3.13.1"
  }
 },
 "nbformat": 4,
 "nbformat_minor": 5
}
